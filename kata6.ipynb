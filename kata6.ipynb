{
 "cells": [
  {
   "cell_type": "markdown",
   "id": "a440e256-542f-45e5-9243-c7232cc56364",
   "metadata": {},
   "source": [
    "\n",
    "# Ejercicio1: Crear y usar listas de Python\n"
   ]
  },
  {
   "cell_type": "markdown",
   "id": "44abd399-65fd-4f0b-ad5b-b1978f387167",
   "metadata": {},
   "source": [
    "## Ejercicio: Usar listas para almacenar nombres de planetas"
   ]
  },
  {
   "cell_type": "markdown",
   "id": "a54d37f1-cc8e-40a9-800a-79efaa1da990",
   "metadata": {},
   "source": [
    "Las listas permiten almacenar varios valores en una sola variable. Comenzarás un proyecto sobre información planetaria creando una lista de planetas.\n",
    "\n",
    "    TIP Dedica unos minutos para tratar de encontrar una solución. Luego desplázate hacia abajo hasta la parte inferior para ver si has logrado compilar el programa de acuerdo con las especificaciones\n",
    "\n",
    "En primer lugar, crea una variable denominada planets. Agrega los ocho planetas (sin Plutón) a la lista. A continuación, muestra el número de planetas.\n"
   ]
  },
  {
   "cell_type": "code",
   "execution_count": 1,
   "id": "b020a239-38dc-4d15-bdac-992dff63c66b",
   "metadata": {},
   "outputs": [
    {
     "name": "stdout",
     "output_type": "stream",
     "text": [
      "8\n"
     ]
    }
   ],
   "source": [
    "\n",
    "\n",
    "# Creamos la lista planets y la mostramos\n",
    "\n",
    "planets = ['Mercury', 'Venus', 'Earth', 'Mars', 'Jupiter', 'Saturn', 'Uranus', 'Neptune']\n",
    "print(len(planets))"
   ]
  },
  {
   "cell_type": "markdown",
   "id": "c08e47ab-2caa-4ab0-b66a-8d7d263dfc5d",
   "metadata": {},
   "source": [
    "\n",
    "\n",
    "Agrega a Plutón a la lista que creaste. Luego muestra tanto el número de planetas como el último planeta de la lista.\n"
   ]
  },
  {
   "cell_type": "code",
   "execution_count": 2,
   "id": "9b0a345f-a79d-4040-99fb-5c6ba560331b",
   "metadata": {},
   "outputs": [],
   "source": [
    "planets.append('Pluton')\n"
   ]
  },
  {
   "cell_type": "code",
   "execution_count": 4,
   "id": "87009164-7a1e-43d9-b254-39286087c08d",
   "metadata": {},
   "outputs": [
    {
     "name": "stdout",
     "output_type": "stream",
     "text": [
      "son 9 planetas en la lista, siendo el último Pluton\n"
     ]
    }
   ],
   "source": [
    "print('son', len(planets), 'planetas en la lista, siendo el último', planets[-1])"
   ]
  },
  {
   "cell_type": "markdown",
   "id": "0e6b241d-5086-4f55-a33d-8aaf8d4db241",
   "metadata": {},
   "source": [
    "# Ejercicio 2: Trabajando con datos de una lista"
   ]
  },
  {
   "cell_type": "markdown",
   "id": "74248171-618f-4f99-84d9-5868896dc58f",
   "metadata": {},
   "source": [
    "Usar slices para recuperar partes de una lista"
   ]
  },
  {
   "cell_type": "markdown",
   "id": "b75568aa-3c37-4554-8339-52b9a67103bc",
   "metadata": {},
   "source": [
    "\n",
    "\n",
    "Es posible que debas trabajar con diferentes secciones de una lista. En nuestro ejemplo, queremos mostrar planetas más cerca y más lejos del sol de un planeta que el usuario ingresa por teclado.\n",
    "\n",
    "Comienza agregando el código para crear una lista con los planetas.\n"
   ]
  },
  {
   "cell_type": "code",
   "execution_count": 5,
   "id": "9346791a-a4a4-4d18-a7d4-f2746f456061",
   "metadata": {},
   "outputs": [],
   "source": [
    "# Lista de planetas\n",
    "planets = ['Mercury', 'Venus', 'Earth', 'Mars', 'Jupiter', 'Saturn', 'Neptune']"
   ]
  },
  {
   "cell_type": "markdown",
   "id": "370e9a06-716c-4f13-ba38-235bbdd0521b",
   "metadata": {},
   "source": [
    "\n",
    "Solicita al usuario el nombre de un planeta\n",
    "\n",
    "A continuación, agrega el código para solicitar al usuario un nombre. Debido a que las cadenas distinguen entre mayúsculas y minúsculas en Python, pídale al usuario que use una letra mayúscula para comenzar el nombre del planeta.\n"
   ]
  },
  {
   "cell_type": "code",
   "execution_count": 6,
   "id": "d083a1a5-33ac-4c7a-8de8-5ecb2dedfe2c",
   "metadata": {},
   "outputs": [
    {
     "name": "stdin",
     "output_type": "stream",
     "text": [
      "Escribe el nombre de un planeta, escribe con mayuscula al comenzar el nombre Mars\n"
     ]
    }
   ],
   "source": [
    "variablep = input(\"Escribe el nombre de un planeta, escribe con mayuscula al comenzar el nombre\")"
   ]
  },
  {
   "cell_type": "markdown",
   "id": "74a8f696-6a97-4341-bd98-8eaf51c82705",
   "metadata": {},
   "source": [
    "\n",
    "Mostrar planetas más cercanos al sol que el que el usuario ingresó\n",
    "\n",
    "Con el índice determinado, ahora puedes agregar el código para mostrar los planetas más cercanos al sol.\n"
   ]
  },
  {
   "cell_type": "code",
   "execution_count": 10,
   "id": "af89eed5-ffe9-41cd-8913-8727bb6370af",
   "metadata": {},
   "outputs": [
    {
     "name": "stdout",
     "output_type": "stream",
     "text": [
      "los planetas más cercanos al Sol que Mars son ['Mercury', 'Venus', 'Earth']\n"
     ]
    }
   ],
   "source": [
    "print('los planetas más cercanos al Sol que',variablep,'son',planets[0:planets.index(variablep)])"
   ]
  },
  {
   "cell_type": "markdown",
   "id": "8cca3c5d-bd4c-4a84-b2ba-67e6891b9f4b",
   "metadata": {},
   "source": [
    "\n",
    "# Mostrar planetas más alejados del sol que el que el usuario ingresó\n",
    "\n",
    "Puedes usar el mismo índice para mostrar planetas más alejados del sol. Sin embargo, recuerda que el índice inicial se incluye cuando usas un slice. Como resultado, tendrás que agregar 1 al valor. Agrega el código para mostrar los planetas más alejados del sol.\n"
   ]
  },
  {
   "cell_type": "code",
   "execution_count": 11,
   "id": "cedafe36-6183-4f2e-ab37-3a731ffa88f0",
   "metadata": {},
   "outputs": [
    {
     "name": "stdout",
     "output_type": "stream",
     "text": [
      "los planetas más cercanos al Sol que Mars son ['Jupiter', 'Saturn', 'Neptune']\n"
     ]
    }
   ],
   "source": [
    "print('los planetas más lejanos al Sol que',variablep,'son',planets[planets.index(variablep)+1:len(planets)])"
   ]
  }
 ],
 "metadata": {
  "kernelspec": {
   "display_name": "Python 3 (ipykernel)",
   "language": "python",
   "name": "python3"
  },
  "language_info": {
   "codemirror_mode": {
    "name": "ipython",
    "version": 3
   },
   "file_extension": ".py",
   "mimetype": "text/x-python",
   "name": "python",
   "nbconvert_exporter": "python",
   "pygments_lexer": "ipython3",
   "version": "3.9.7"
  }
 },
 "nbformat": 4,
 "nbformat_minor": 5
}
