{
 "cells": [
  {
   "cell_type": "markdown",
   "id": "e61a9a1f-34be-4677-857d-d6735dbf46c6",
   "metadata": {},
   "source": [
    "# Tu primer programa"
   ]
  },
  {
   "cell_type": "markdown",
   "id": "17467726-adc6-48e4-99a1-b9fb0a96efd9",
   "metadata": {},
   "source": [
    "Para crear este programa, deberás utilizar los conceptos que aprendiste en el último módulo. Usarás Jupyter Notebook en este ejercicio, que es una combinación de texto y código con la que puede interactuar. Finaliza el código siguiente para que el resultado muestre la fecha de hoy."
   ]
  },
  {
   "cell_type": "code",
   "execution_count": 6,
   "id": "ca051a3b-eb16-4756-a78b-2ef4b74ad2b7",
   "metadata": {},
   "outputs": [
    {
     "name": "stdout",
     "output_type": "stream",
     "text": [
      "Today's date is: 2022-02-18\n"
     ]
    }
   ],
   "source": [
    "\n",
    "\n",
    "from datetime import date\n",
    "\n",
    "print(\"Today's date is: \"+str(date.today()))\n",
    "\n"
   ]
  },
  {
   "cell_type": "markdown",
   "id": "a4097a9f-832e-4c39-9b4f-12bcd68a1f4a",
   "metadata": {},
   "source": [
    "## Construir un convertidor de unidades"
   ]
  },
  {
   "cell_type": "markdown",
   "id": "ead0bf6e-7d8d-4f5a-bc76-a05701343eb6",
   "metadata": {},
   "source": [
    "El oficial superior> \"Necesito una cosa más: un programa de conversión entre parsecs y años luz. Tener un programa de este tipo podría ser realmente útil en el puente para trazar nuestro curso\"."
   ]
  },
  {
   "cell_type": "code",
   "execution_count": 10,
   "id": "82fac587-ae5a-4634-a6fc-5b21b8ed3465",
   "metadata": {},
   "outputs": [
    {
     "name": "stdout",
     "output_type": "stream",
     "text": [
      "11 parsec, is 35.877159999999996 lightyears\n"
     ]
    }
   ],
   "source": [
    "parsec = 11\n",
    "\n",
    "lightyears = 3.26156\n",
    "\n",
    "print(str(parsec) + \" parsec, is \" + str(parsec*lightyears) + \" lightyears\")"
   ]
  },
  {
   "cell_type": "markdown",
   "id": "e474bf0b-74d9-4096-b13c-9450b5d68b34",
   "metadata": {},
   "source": [
    "\n",
    "\n",
    "    [!TIP] 1 parsec es 3.26156 años luz. Utiliza el operador de multiplicación.\n",
    "\n"
   ]
  }
 ],
 "metadata": {
  "kernelspec": {
   "display_name": "Python 3 (ipykernel)",
   "language": "python",
   "name": "python3"
  },
  "language_info": {
   "codemirror_mode": {
    "name": "ipython",
    "version": 3
   },
   "file_extension": ".py",
   "mimetype": "text/x-python",
   "name": "python",
   "nbconvert_exporter": "python",
   "pygments_lexer": "ipython3",
   "version": "3.9.7"
  }
 },
 "nbformat": 4,
 "nbformat_minor": 5
}
