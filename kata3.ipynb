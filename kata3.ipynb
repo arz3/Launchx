{
 "cells": [
  {
   "cell_type": "code",
   "execution_count": 4,
   "id": "c26a4387-78d4-4043-87ca-73a27dede0f6",
   "metadata": {},
   "outputs": [],
   "source": [
    "# Tip de práctica 1: Intenta ejecutarlo en un notebook.\n",
    "a = 97\n",
    "b = 55\n",
    "# test expression / expresión de prueba\n",
    "if a < b:\n",
    "    # statement to be run / instrucción a ejecutar\n",
    "    print(b)"
   ]
  },
  {
   "cell_type": "code",
   "execution_count": 5,
   "id": "28058458-f95b-4674-988a-2461708365ef",
   "metadata": {},
   "outputs": [
    {
     "name": "stdout",
     "output_type": "stream",
     "text": [
      "93\n"
     ]
    }
   ],
   "source": [
    "# Aplica el tip de práctica 1.\n",
    "a = 93\n",
    "b = 27\n",
    "if a >= b:\n",
    "    print(a)"
   ]
  },
  {
   "cell_type": "markdown",
   "id": "ab737024-66d5-49d3-802d-b93d7ebafd0a",
   "metadata": {
    "tags": []
   },
   "source": [
    "# Ejercicio - Escribir declaraciones if, else, y elif"
   ]
  },
  {
   "cell_type": "markdown",
   "id": "6787ad85-96e0-4da8-ade5-3321ce59d690",
   "metadata": {},
   "source": [
    "#### Para este ejercicio, escribirás una lógica condicional que imprima una advertencia si un asteroide se acerca a la Tierra demasiado rápido. La velocidad del asteroide varía dependiendo de lo cerca que esté del sol, y cualquier velocidad superior a 25 kilómetros por segundo (km/s) merece una advertencia.\n",
    "\n",
    "#### Un asteroide se acerca, y viaja a una velocidad de 49 km/s."
   ]
  },
  {
   "cell_type": "code",
   "execution_count": 7,
   "id": "46674698-a92b-40df-ab1a-beb5158b5be7",
   "metadata": {},
   "outputs": [],
   "source": [
    "# Añadir el código necesario para crear una variable que guarde la velocidad del asteroide.\n",
    "# Escribe una expresión de prueba para calcular si necesita una advertencia.\n",
    "# Agregue las instrucciones que se ejecutarán si la expresión de prueba es true o false."
   ]
  },
  {
   "cell_type": "code",
   "execution_count": 9,
   "id": "09f663ad-d1f3-48e1-935f-dd98aa3d24b9",
   "metadata": {},
   "outputs": [
    {
     "name": "stdout",
     "output_type": "stream",
     "text": [
      "Advertencia se acerca un asteroide\n"
     ]
    }
   ],
   "source": [
    "#velocidad\n",
    "v=49\n",
    "if v>=25:\n",
    "    print(\"Advertencia se acerca un asteroide\")\n",
    "else:\n",
    "    print(\"todo normal\")"
   ]
  },
  {
   "cell_type": "markdown",
   "id": "5993ae07-623f-4952-acce-1f3ec2ef3fee",
   "metadata": {},
   "source": [
    "#### Si un asteroide entra en la atmósfera de la Tierra a una velocidad mayor o igual a 20 km/s, a veces produce un rayo de luz que se puede ver desde la Tierra. Escribe la lógica condicional que usa declaraciones if, else, y elif para alertar a las personas de todo el mundo que deben buscar un asteroide en el cielo. ¡Hay uno que se dirige a la tierra ahora a una velocidad de 19 km/s!"
   ]
  },
  {
   "cell_type": "code",
   "execution_count": 10,
   "id": "103d5128-e398-4550-8e20-d2b7f85da921",
   "metadata": {},
   "outputs": [],
   "source": [
    "# Agrega el código para crear una variable para un asteroide que viaja a 19 km/s\n",
    "# Escribe varias expresiones de prueba para determinar si puedes ver el rayo de luz desde la tierra\n",
    "# Agrega las instrucciones que se ejecutarán si las expresiones de prueba son True o False"
   ]
  },
  {
   "cell_type": "code",
   "execution_count": 11,
   "id": "959553fb-7f88-4abc-921c-64f7f33e06f1",
   "metadata": {},
   "outputs": [
    {
     "name": "stdout",
     "output_type": "stream",
     "text": [
      "No se puede ver rayo de luz en el cielo\n"
     ]
    }
   ],
   "source": [
    "v=19\n",
    "\n",
    "if v>=20:\n",
    "    print(\"Busca un asteroide en el cielo\")\n",
    "else:\n",
    "    print(\"No se puede ver rayo de luz en el cielo\")"
   ]
  },
  {
   "cell_type": "markdown",
   "id": "fbb569d6-f857-4c90-a515-7c3a52652a99",
   "metadata": {},
   "source": [
    "### En este ejercicio, aprenderás información más matizada sobre cuándo los asteroides representan un peligro para la Tierra, y utilizarás esa información para mejorar nuestro sistema de advertencia. Aquí está la nueva información que necesitas saber:\n",
    "\n",
    "### *Los asteroides de menos de 25 metros en su dimensión más grande probablemente se quemarán a medida que entren en la atmósfera de la Tierra.\n",
    "\n",
    "###    Si una pieza de un asteroide que es más grande que 25 metros pero más pequeña que 1000 metros golpeara la Tierra, causaría mucho daño.\n",
    "\n",
    "### También discutimos en el ejercicio anterior que:\n",
    "\n",
    "###    La velocidad del asteroide varía en función de lo cerca que esté del sol, y cualquier velocidad superior a 25 kilómetros por segundo (km/s) merece una advertencia.\n",
    "###    Si un asteroide entra en la atmósfera de la Tierra a una velocidad mayor o igual a 20 km/s, a veces produce un rayo de luz que se puede ver desde la Tierra.\n",
    "\n",
    "### Usando toda esta información, escribe un programa que emita la advertencia o información correcta a la gente de la Tierra, según la velocidad y el tamaño de un asteroide. Utiliza instrucciones if, else, y elif, así como los operadores and y or."
   ]
  },
  {
   "cell_type": "code",
   "execution_count": 12,
   "id": "d9d0d75a-59f4-4350-b525-02baa9b867ff",
   "metadata": {},
   "outputs": [],
   "source": [
    "# Agrega el código para crear nuevas variables para la velocidad y el tamaño del asteroide\n",
    "# Para probar el código, prueba con varias velocidades y tamaños\n",
    "# Escribe varias expresiones de prueba o combinaciones de expresiones de prueba para determinar qué mensaje se debe enviar a Tierra."
   ]
  },
  {
   "cell_type": "code",
   "execution_count": 15,
   "id": "0dca2e8d-7bf1-4df6-85f8-9b07ba0f818f",
   "metadata": {},
   "outputs": [
    {
     "name": "stdout",
     "output_type": "stream",
     "text": [
      "Advertencie de un meteorito, se quemará por tamaño menor\n"
     ]
    }
   ],
   "source": [
    "# tamaño\n",
    "t=20\n",
    "v=26\n",
    "if v>=25:\n",
    "    if t<25:\n",
    "        print(\"Advertencie de un meteorito, se quemará por tamaño menor pero tiene alta velocidad\")\n",
    "    elif t>25 or t<1000:\n",
    "        print(\"Advertencie de un meteorito, puede hacer mucho daño\")\n",
    "elif v>=20:\n",
    "    print(\"se está produciendo un rayo de luz\")"
   ]
  },
  {
   "cell_type": "code",
   "execution_count": null,
   "id": "d273c653-22f6-4451-b377-d51bdf43f4a7",
   "metadata": {},
   "outputs": [],
   "source": []
  }
 ],
 "metadata": {
  "kernelspec": {
   "display_name": "Python 3 (ipykernel)",
   "language": "python",
   "name": "python3"
  },
  "language_info": {
   "codemirror_mode": {
    "name": "ipython",
    "version": 3
   },
   "file_extension": ".py",
   "mimetype": "text/x-python",
   "name": "python",
   "nbconvert_exporter": "python",
   "pygments_lexer": "ipython3",
   "version": "3.9.7"
  }
 },
 "nbformat": 4,
 "nbformat_minor": 5
}
