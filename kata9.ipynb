{
 "cells": [
  {
   "cell_type": "markdown",
   "id": "27a7c6ec-60b4-4d93-8fd5-35aef42030ce",
   "metadata": {},
   "source": [
    "# Ejercicio: Uso de funciones en Python"
   ]
  },
  {
   "cell_type": "markdown",
   "id": "ecde9a72-1ea4-4f68-908d-5be38f637143",
   "metadata": {},
   "source": [
    "### Ejercicio 1: Trabajar con argumentos en funciones"
   ]
  },
  {
   "cell_type": "markdown",
   "id": "3fc10f6c-e422-45b6-a1dc-48734205b24e",
   "metadata": {},
   "source": [
    "Los argumentos requeridos en las funciones se utilizan cuando las funciones necesitan que esos argumentos funcionen correctamente. En este ejercicio, construirás un informe de combustible que requiere información de varias ubicaciones de combustible en todo el cohete.\n",
    "\n",
    "    TIP Dedica unos minutos para tratar de encontrar una solución. Luego desplázate hacia abajo hasta la parte inferior para ver si has logrado compilar el programa de acuerdo con las especificaciones\n",
    "\n",
    "Comienza por crear una función que necesite tres lecturas de combustible y devuelva un informe:\n"
   ]
  },
  {
   "cell_type": "code",
   "execution_count": 11,
   "id": "a18189be-6198-4e0e-8a49-18de14c73d8f",
   "metadata": {},
   "outputs": [],
   "source": [
    "# Función para leer 3 tanques de combustible y muestre el promedio\n",
    "def tanques(tanque1,tanque2,tanque3):\n",
    "    prom=(tanque1+tanque2+tanque3)/3\n",
    "    print('promedio de combustible',prom)\n",
    "    return prom"
   ]
  },
  {
   "cell_type": "markdown",
   "id": "a06b00a2-4518-4ca3-8c41-45be5991ed41",
   "metadata": {},
   "source": [
    "\n",
    "\n",
    "Ahora que hemos definido la función de informes, vamos a comprobarlo. Para esta misión, los tanques no están llenos:\n"
   ]
  },
  {
   "cell_type": "code",
   "execution_count": 8,
   "id": "252c3a46-1c67-4077-9410-ee9c086e0b4a",
   "metadata": {},
   "outputs": [
    {
     "name": "stdout",
     "output_type": "stream",
     "text": [
      "promedio de combustible 3.3333333333333335\n"
     ]
    },
    {
     "data": {
      "text/plain": [
       "3.3333333333333335"
      ]
     },
     "execution_count": 8,
     "metadata": {},
     "output_type": "execute_result"
    }
   ],
   "source": [
    "# Llamamos a la función que genera el reporte print(funcion(tanque1, tanque2, tanque3))\n",
    "tanques(3,2,5)"
   ]
  },
  {
   "cell_type": "markdown",
   "id": "61476a61-f887-4674-b4bf-1b680ee0e8fb",
   "metadata": {},
   "source": [
    "En lugar de simplemente crear el informe, la función también está calculando el promedio. Mejora la legibilidad extrayendo el cálculo promedio de la función en una nueva función para que el promedio se pueda hacer de forma independiente:"
   ]
  },
  {
   "cell_type": "code",
   "execution_count": 10,
   "id": "a56f7602-5dbb-4e00-b85e-8e9cd5d16435",
   "metadata": {},
   "outputs": [],
   "source": [
    "def promedio(tanque1,tanque2,tanque3):\n",
    "    prom=(tanque1+tanque2+tanque3)/3\n",
    "    return prom"
   ]
  },
  {
   "cell_type": "markdown",
   "id": "2cb88cda-4a92-4cbf-9867-ffe47c02fed3",
   "metadata": {},
   "source": [
    "\n",
    "\n",
    "Ahora actualiza la función de informes para llamando a la nueva función del promedio:\n"
   ]
  },
  {
   "cell_type": "code",
   "execution_count": 12,
   "id": "4ee6823f-e27e-4ab0-ad89-a39f4e5bd43a",
   "metadata": {},
   "outputs": [],
   "source": [
    "# Función para leer 3 tanques de combustible y muestre el promedio\n",
    "def tanques(tanque1,tanque2,tanque3):\n",
    "    prom=promedio(tanque1,tanque2,tanque3)\n",
    "    print('promedio de combustible',prom)\n",
    "    return prom"
   ]
  },
  {
   "cell_type": "markdown",
   "id": "d324c0b5-8b81-47bb-88b9-c461e7a4d24a",
   "metadata": {},
   "source": [
    "\n",
    "# Ejercicio 2: Trabajo con argumentos de palabra clave\n"
   ]
  },
  {
   "cell_type": "markdown",
   "id": "3f456e67-d4c8-464f-ad94-0b2a79f28ee1",
   "metadata": {},
   "source": [
    "## Ejercicio : Trabajar con argumentos de palabras clave en funciones"
   ]
  },
  {
   "cell_type": "markdown",
   "id": "5d1655b9-229f-41c4-8bf5-fbd51614df86",
   "metadata": {},
   "source": [
    "En este ejercicio, construirás un informe de cohete que requiere varias piezas de información, como el tiempo hasta el destino, el combustible a la izquierda y el nombre del destino. Comienza por crear una función que creará un informe preciso de la misión:"
   ]
  },
  {
   "cell_type": "code",
   "execution_count": 25,
   "id": "ce389d6f-a499-4da9-9dbd-7035e9bfb8da",
   "metadata": {},
   "outputs": [],
   "source": [
    "# Función con un informe preciso de la misión. Considera hora de prelanzamiento, tiempo de vuelo, destino, tanque externo y tanque interno\n",
    "from datetime import timedelta, datetime\n",
    "\n",
    "def arrival_time(tiempodevuelo,destino,tanqueexterno,tanqueinterno,prelanzamiento):\n",
    "    now = datetime.now()\n",
    "    arrival = now + timedelta(hours=tiempodevuelo)\n",
    "    print('\\nprelanzamiento:',prelanzamiento,\n",
    "         '\\ntanque interno:',tanqueinterno,\n",
    "         '\\ntanque externo:',tanqueexterno,\n",
    "          '\\ntiempo de vuelo en horas:',tiempodevuelo,\n",
    "         '\\ndestino:',destino)\n"
   ]
  },
  {
   "cell_type": "markdown",
   "id": "38fe1ceb-dd52-49d2-8ef8-257df23daeb8",
   "metadata": {},
   "source": [
    "La función es problemática porque no se puede adaptar para minutos adicionales o tanques adicionales de combustible. Hazlo más flexible permitiendo cualquier número de pasos basados en el tiempo y cualquier número de tanques. En lugar de usar *args y **kwargs, aprovecha el hecho de que puedes usar cualquier nombre que desees. Asegurate que la función sea más legible mediante el uso de nombres de variables que están asociados con las entradas, como *minutes y **fuel_reservoirs:"
   ]
  },
  {
   "cell_type": "code",
   "execution_count": 37,
   "id": "23966e36-20a0-4849-9d46-0df1319d8ae0",
   "metadata": {},
   "outputs": [],
   "source": [
    "def arrival_time(destino,*minutes,**fuel_reservoirs):\n",
    "    now = datetime.now()\n",
    "    arrival = now + timedelta(hours=sum(minutes))\n",
    "    tanques=sum(fuel_reservoirs.values())\n",
    "    ntanques=len(fuel_reservoirs.items())\n",
    "    print('\\ntanques:',tanques,\n",
    "          '\\nno. de tanques:',ntanques,\n",
    "         '\\ndestino:',destino)"
   ]
  },
  {
   "cell_type": "code",
   "execution_count": 38,
   "id": "7d105bf0-1761-4243-b85f-1b0fc09b6d0e",
   "metadata": {},
   "outputs": [
    {
     "name": "stdout",
     "output_type": "stream",
     "text": [
      "\n",
      "tanques: 300 \n",
      "no. de tanques: 1 \n",
      "destino: moon\n"
     ]
    }
   ],
   "source": [
    "arrival_time('moon',12,12,23,inte=300)"
   ]
  },
  {
   "cell_type": "markdown",
   "id": "83a8eaff-9ea6-4ea9-94c9-d0ac1fa607d3",
   "metadata": {},
   "source": [
    "\n",
    "\n",
    "Debido a que el combustible que queda en los tanques es específico de cada tanque, actualiza la función para usar el nombre de cada tanque en el informe:\n"
   ]
  },
  {
   "cell_type": "code",
   "execution_count": 50,
   "id": "18e0dd18-2d8d-4fa7-ac25-8ad9455f717b",
   "metadata": {},
   "outputs": [],
   "source": [
    "def arrival_time(destino,*minutes,**fuel_reservoirs):\n",
    "    now = datetime.now()\n",
    "    arrival = now + timedelta(hours=sum(minutes))\n",
    "    tanques=sum(fuel_reservoirs.values())\n",
    "    ntanques=len(fuel_reservoirs.items())\n",
    "    for title, name in fuel_reservoirs.items():\n",
    "        print(f'{title}: {name}')\n",
    "    print('\\ntanques:',tanques,\n",
    "          '\\nno. de tanques:',ntanques,\n",
    "         '\\ndestino:',destino)"
   ]
  },
  {
   "cell_type": "code",
   "execution_count": 51,
   "id": "b2b1eb41-9c72-482d-8aec-bb671e284a9b",
   "metadata": {},
   "outputs": [
    {
     "name": "stdout",
     "output_type": "stream",
     "text": [
      "tanqueinterno: 300\n",
      "\n",
      "tanques: 300 \n",
      "no. de tanques: 1 \n",
      "destino: moon\n"
     ]
    }
   ],
   "source": [
    "arrival_time('moon',12,12,23,tanqueinterno=300)"
   ]
  },
  {
   "cell_type": "code",
   "execution_count": null,
   "id": "9e844064-b2dd-4ea8-8730-cdd9b3a1d655",
   "metadata": {},
   "outputs": [],
   "source": []
  }
 ],
 "metadata": {
  "kernelspec": {
   "display_name": "Python 3 (ipykernel)",
   "language": "python",
   "name": "python3"
  },
  "language_info": {
   "codemirror_mode": {
    "name": "ipython",
    "version": 3
   },
   "file_extension": ".py",
   "mimetype": "text/x-python",
   "name": "python",
   "nbconvert_exporter": "python",
   "pygments_lexer": "ipython3",
   "version": "3.9.7"
  }
 },
 "nbformat": 4,
 "nbformat_minor": 5
}
