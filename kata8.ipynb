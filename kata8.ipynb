{
 "cells": [
  {
   "cell_type": "code",
   "execution_count": 1,
   "id": "25eeeffd-4836-4c0d-b45d-b0fcbd8a0a0a",
   "metadata": {},
   "outputs": [],
   "source": [
    "planet = {\n",
    "    'name': 'Earth',\n",
    "    'moons': 1\n",
    "}"
   ]
  },
  {
   "cell_type": "code",
   "execution_count": 2,
   "id": "cce5b16c-2c1c-43a6-a764-3fb5de858abe",
   "metadata": {},
   "outputs": [
    {
     "name": "stdout",
     "output_type": "stream",
     "text": [
      "Earth\n"
     ]
    }
   ],
   "source": [
    "print(planet.get('name'))\n",
    "\n",
    "# Muestra Earth"
   ]
  },
  {
   "cell_type": "code",
   "execution_count": 3,
   "id": "58b6f706-1c13-4e96-b869-a202099428e0",
   "metadata": {},
   "outputs": [
    {
     "name": "stdout",
     "output_type": "stream",
     "text": [
      "Earth\n"
     ]
    }
   ],
   "source": [
    "# planet['name'] es idéntico a usar planet.get('name')\n",
    "print(planet['name'])\n",
    "\n",
    "# Muestra Earth"
   ]
  },
  {
   "cell_type": "markdown",
   "id": "b4b757c5-3a50-4974-b49c-ad9c7949feb3",
   "metadata": {},
   "source": [
    "\n",
    "# Ejercicio 1: Creación de diccionarios de Python\n"
   ]
  },
  {
   "cell_type": "markdown",
   "id": "d651c755-05ff-4288-b908-938eac02eaaa",
   "metadata": {},
   "source": [
    "## Ejercicio: Crear y modificar un diccionario de Python"
   ]
  },
  {
   "cell_type": "markdown",
   "id": "26c17802-6491-44a8-9b98-406b5167085c",
   "metadata": {},
   "source": [
    "Los diccionarios python te permiten modelar datos más complejos. Los diccionarios son una colección de pares clave/valor, y son muy comunes en los programas Python. Su flexibilidad le permite trabajar dinámicamente con valores relacionados sin tener que crear clases u objetos.\n",
    "\n",
    "Un diccionario se indica en Python mediante el uso de llaves ({ }), con pares clave/valor separados por dos puntos (:). Las claves son literales de cadena y los valores pueden ser de cualquier tipo de datos.{ }:"
   ]
  },
  {
   "cell_type": "markdown",
   "id": "ce65934d-f883-464a-84cb-9fb5a347e080",
   "metadata": {},
   "source": [
    "Para este ejercicio, crearás un diccionario que almacene información sobre el planeta Marte.\n",
    "\n",
    "    TIP Dedica unos minutos para tratar de encontrar una solución. Luego desplázate hacia abajo hasta la parte inferior para ver si has logrado compilar el programa de acuerdo con las especificaciones\n",
    "\n",
    "Agrega el código para crear un nuevo diccionario denominado 'planet'. Rellena con la siguiente información:\n",
    "\n",
    "name: Mars\n",
    "\n",
    "moons: 2"
   ]
  },
  {
   "cell_type": "code",
   "execution_count": 5,
   "id": "c784f45a-63dd-4a2c-b5e8-46c69c72fc1b",
   "metadata": {},
   "outputs": [],
   "source": [
    "planet = {\n",
    "    'name': 'Mars',\n",
    "    'moons': 2\n",
    "}"
   ]
  },
  {
   "cell_type": "markdown",
   "id": "19ed5c2b-47ba-41dd-89a3-1622cc5682de",
   "metadata": {},
   "source": [
    "\n",
    "\n",
    "Para recuperar valores, puede utilizar el método get o corchetes ([ ]) con el nombre de la clave que desea recuperar.\n"
   ]
  },
  {
   "cell_type": "code",
   "execution_count": 6,
   "id": "80ff79ba-f7ef-4652-9001-4dca9bd0d69e",
   "metadata": {},
   "outputs": [],
   "source": [
    "# Muestra el nombre del planeta y el número de lunas que tiene."
   ]
  },
  {
   "cell_type": "code",
   "execution_count": 8,
   "id": "6f15c4a4-3f5b-41b8-b6c2-fc653e9152b2",
   "metadata": {},
   "outputs": [
    {
     "name": "stdout",
     "output_type": "stream",
     "text": [
      "El planeta Mars tiene 2 lunas\n"
     ]
    }
   ],
   "source": [
    "print('El planeta',planet.get('name'),'tiene',planet['moons'],'lunas')"
   ]
  },
  {
   "cell_type": "markdown",
   "id": "8c7807d3-35a4-4529-8c8a-34a09a12bc5b",
   "metadata": {},
   "source": [
    "\n",
    "\n",
    "Puedes actualizar las claves existentes o crear otras nuevas utilizando el método update o entre corchetes ([ ]). Cuando se usa update, se pasa un nuevo objeto de diccionario con los valores actualizados o nuevos. Cuando se usan corchetes, se especifica el nombre de la clave y se asigna un nuevo valor.\n",
    "\n",
    "demo['new_key'] = 'New value'\n",
    "\n",
    "Agrega un nuevo valor con una clave de 'circunferencia (km)'. Este nuevo valor debería almacenar un diccionario con las dos circunferencias del planeta:\n",
    "\n",
    "polar: 6752\n",
    "\n",
    "equatorial: 6792\n",
    "\n"
   ]
  },
  {
   "cell_type": "code",
   "execution_count": 9,
   "id": "5974e9df-51d7-4f91-8433-619bb0c754ae",
   "metadata": {},
   "outputs": [],
   "source": [
    "planet['circunferencia (km)'] = {\n",
    "    'polar': 6752,\n",
    "    'equatorial': 6792\n",
    "}"
   ]
  },
  {
   "cell_type": "markdown",
   "id": "0dd6e4ea-402f-45ad-902a-185b74ed266c",
   "metadata": {},
   "source": [
    "\n",
    "\n",
    "Imprime el nombre del planeta con su circunferencia polar.\n"
   ]
  },
  {
   "cell_type": "code",
   "execution_count": 16,
   "id": "6512c67b-095d-43a2-8ac3-aa8ff4363322",
   "metadata": {},
   "outputs": [
    {
     "name": "stdout",
     "output_type": "stream",
     "text": [
      "Mars :polar: 6752 ,equatorial: 6792\n"
     ]
    }
   ],
   "source": [
    "print(planet['name'],':polar:',planet['circunferencia (km)']['polar'],',equatorial:',planet['circunferencia (km)']['equatorial'])"
   ]
  },
  {
   "cell_type": "markdown",
   "id": "8cd0ae1f-d82c-4627-bbed-6311d4d77f3d",
   "metadata": {},
   "source": [
    "\n",
    "# Ejercicio 2: Programación dinámica con diccionarios\n"
   ]
  },
  {
   "cell_type": "markdown",
   "id": "56d20600-1a40-4c1a-bf9a-2d1e33aa11a6",
   "metadata": {},
   "source": [
    "## Ejercicio: Cálculo de valores"
   ]
  },
  {
   "cell_type": "markdown",
   "id": "4f48bf6a-524a-480c-b25d-1d1cbefec452",
   "metadata": {},
   "source": [
    "En este escenario, calcularás tanto el número total de lunas en el sistema solar como el número promedio de lunas que tiene un planeta."
   ]
  },
  {
   "cell_type": "code",
   "execution_count": 18,
   "id": "ab4ee952-faaa-4554-ba3a-892d1e7c078c",
   "metadata": {},
   "outputs": [],
   "source": [
    "# Planets and moons\n",
    "\n",
    "planet_moons = {\n",
    "    'mercury': 0,\n",
    "    'venus': 0,\n",
    "    'earth': 1,\n",
    "    'mars': 2,\n",
    "    'jupiter': 79,\n",
    "    'saturn': 82,\n",
    "    'uranus': 27,\n",
    "    'neptune': 14,\n",
    "    'pluto': 5,\n",
    "    'haumea': 2,\n",
    "    'makemake': 1,\n",
    "    'eris': 1\n",
    "}"
   ]
  },
  {
   "cell_type": "markdown",
   "id": "88968920-8294-4a62-bef7-eeb9fbfd8583",
   "metadata": {},
   "source": [
    "\n",
    "\n",
    "Los diccionarios de Python te permiten recuperar todos los valores y claves utilizando los métodos values y keys, respectivamente. Cada método devuelve una lista que contiene los datos, que luego se puede usar como una lista normal de Python. Puedes determinar el número de elementos mediante len, e iterar a través de él mediante un ciclo for.\n",
    "\n",
    "Agrega el código a continuación para determinar el número de lunas. Comienza almacenando el valor values de planet_moons en una variable denominada moons. A continuación, almacena el número de planetas en una variable denominada planets.\n"
   ]
  },
  {
   "cell_type": "code",
   "execution_count": 45,
   "id": "25c103f8-e885-437b-8d4b-b6c86b1ff19a",
   "metadata": {},
   "outputs": [],
   "source": [
    "moons=planet_moons.values()\n",
    "total_moons=0\n",
    "planets=len(planet_moons.keys())"
   ]
  },
  {
   "cell_type": "code",
   "execution_count": 46,
   "id": "135e2512-abf8-4a68-b929-8f47f7345062",
   "metadata": {},
   "outputs": [
    {
     "data": {
      "text/plain": [
       "12"
      ]
     },
     "execution_count": 46,
     "metadata": {},
     "output_type": "execute_result"
    }
   ],
   "source": [
    "planets"
   ]
  },
  {
   "cell_type": "code",
   "execution_count": 47,
   "id": "79409c14-8809-479d-838a-068300aa2c6a",
   "metadata": {},
   "outputs": [
    {
     "data": {
      "text/plain": [
       "214"
      ]
     },
     "execution_count": 47,
     "metadata": {},
     "output_type": "execute_result"
    }
   ],
   "source": [
    " sum(moons)"
   ]
  },
  {
   "cell_type": "markdown",
   "id": "a179bc6a-3027-457f-aeee-0528252b9227",
   "metadata": {},
   "source": [
    "Agrega el código para contar el número de lunas. Puedes hacerlo creando un ciclo for para iterar a través de las lunas moons y agregándolos a una variable denominada total_moons. Finalmente calcule el promedio dividiendo total_moons por planets e imprimiendo los resultados."
   ]
  },
  {
   "cell_type": "code",
   "execution_count": 48,
   "id": "c6522cc9-811f-4d77-8033-f7cc94c42bbb",
   "metadata": {},
   "outputs": [
    {
     "name": "stdout",
     "output_type": "stream",
     "text": [
      "There are 214 moons\n",
      "promedio de lunas por planeta: 17.833333333333332\n"
     ]
    }
   ],
   "source": [
    "for value in moons:\n",
    "    total_moons = total_moons +value\n",
    "    #print(total_moons)\n",
    "print(f'There are {total_moons} moons')\n",
    "print('promedio de lunas por planeta:',total_moons/planets)"
   ]
  },
  {
   "cell_type": "code",
   "execution_count": null,
   "id": "5d2e8cde-a8e2-46a7-82fd-955f52aeefa3",
   "metadata": {},
   "outputs": [],
   "source": []
  }
 ],
 "metadata": {
  "kernelspec": {
   "display_name": "Python 3 (ipykernel)",
   "language": "python",
   "name": "python3"
  },
  "language_info": {
   "codemirror_mode": {
    "name": "ipython",
    "version": 3
   },
   "file_extension": ".py",
   "mimetype": "text/x-python",
   "name": "python",
   "nbconvert_exporter": "python",
   "pygments_lexer": "ipython3",
   "version": "3.9.7"
  }
 },
 "nbformat": 4,
 "nbformat_minor": 5
}
