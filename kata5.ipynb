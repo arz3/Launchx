{
 "cells": [
  {
   "cell_type": "markdown",
   "id": "b425bcfe-d32b-4cb5-9ca5-2cbc31760511",
   "metadata": {},
   "source": [
    "\n",
    "# Ejercicio1 - Utilizar operadores aritméticos\n"
   ]
  },
  {
   "cell_type": "markdown",
   "id": "31c42ed5-5be5-4b45-96a3-0dfb4b62135b",
   "metadata": {},
   "source": [
    "Operadores aritméticos en Python"
   ]
  },
  {
   "cell_type": "markdown",
   "id": "6965b102-a4c0-4b9a-98ae-b268d94f96e4",
   "metadata": {},
   "source": [
    "Python proporciona operadores aritméticos comunes para que puedas realizar operaciones matemáticas en tu código. Estos incluyen las cuatro operaciones principales de suma, resta, multiplicación y división.\n",
    "\n",
    "Exploremos cómo podemos crear un programa que pueda calcular la distancia entre dos planetas. Comenzaremos usando dos distancias de planetas: Tierra (149.597.870 km) y Júpiter (778.547.200 km).\n",
    "\n",
    "    TIP Dedica unos minutos a tratar de encontrar una solución. Luego desplázate hacia abajo hasta la parte inferior para ver si has logrado compilar el programa de acuerdo con las especificaciones.\n",
    "\n",
    "Nota: Quita las comas cuando uses los valores."
   ]
  },
  {
   "cell_type": "code",
   "execution_count": 1,
   "id": "6f570201-5e88-4a27-bbbe-0dd222fdab43",
   "metadata": {},
   "outputs": [],
   "source": [
    "\n",
    "\n",
    "# Crear variables para almacenar las dos distancias\n",
    "# ¡Asegúrate de quitar las comas!\n",
    "\n",
    "dtierra=149597870\n",
    "djupiter=778547200"
   ]
  },
  {
   "cell_type": "markdown",
   "id": "40bd5c10-2360-4b95-8a76-392d82eb5234",
   "metadata": {},
   "source": [
    "Realizar la operación\n",
    "\n",
    "Con los valores obtenidos, es el momento de añadir el código para realizar la operación. Restarás el primer planeta del segundo para determinar la distancia en kilómetros. A continuación, puedes convertir la distancia del kilómetro en millas multiplicándola por 0.621"
   ]
  },
  {
   "cell_type": "code",
   "execution_count": 2,
   "id": "afc1f35c-f650-438a-82d0-6ce18056a040",
   "metadata": {},
   "outputs": [],
   "source": [
    "dkm=abs(dtierra-djupiter)\n",
    "dmi=dkm*0.621"
   ]
  },
  {
   "cell_type": "code",
   "execution_count": 3,
   "id": "3646d349-3be8-4e47-a596-215ae322f85c",
   "metadata": {},
   "outputs": [
    {
     "data": {
      "text/plain": [
       "628949330"
      ]
     },
     "execution_count": 3,
     "metadata": {},
     "output_type": "execute_result"
    }
   ],
   "source": [
    "dkm\n"
   ]
  },
  {
   "cell_type": "code",
   "execution_count": 4,
   "id": "2ec8580a-c95a-4df0-9a21-fae76146c5be",
   "metadata": {},
   "outputs": [
    {
     "data": {
      "text/plain": [
       "390577534"
      ]
     },
     "execution_count": 4,
     "metadata": {},
     "output_type": "execute_result"
    }
   ],
   "source": [
    "round(dmi)"
   ]
  },
  {
   "cell_type": "markdown",
   "id": "a21f07df-2cb1-4554-a041-a346eb8937fd",
   "metadata": {},
   "source": [
    "# Ejercicio 2: convierte cadenas en números y usa valores absolutos\n"
   ]
  },
  {
   "cell_type": "markdown",
   "id": "d180ba7e-f797-44e7-9aa5-f5fab16a1e20",
   "metadata": {},
   "source": [
    "\n",
    "Crear una aplicación para trabajar con números y entrada de usuario\n",
    "\n",
    "Con frecuencia, deberás convertir los valores de cadena en números para realizar correctamente diferentes operaciones o determinar el valor absoluto de un número.\n",
    "\n",
    "Para crear nuestra aplicación, queremos leer la distancia del sol para dos planetas, y luego mostrar la distancia entre los planetas. Haremos esto usando input para leer los valores, int para convertir a entero y luego abs para convertir el resultado en su valor absoluto.\n",
    "Lee los valores\n",
    "\n",
    "Usando input, agrega el código para leer la distancia del sol para cada planeta, considerando 2 planetas.\n"
   ]
  },
  {
   "cell_type": "code",
   "execution_count": 5,
   "id": "6ed3a8d5-c5a6-4d36-b8e5-9403e680eba5",
   "metadata": {},
   "outputs": [
    {
     "name": "stdin",
     "output_type": "stream",
     "text": [
      "Escribe le distancia del sol del primer planeta 57900000\n"
     ]
    }
   ],
   "source": [
    "\n",
    "\n",
    "# Almacenar las entradas del usuario\n",
    "#Pista: variable = input(\"¿Cuál es tu nombre?\")\n",
    "variable1 = input(\"Escribe le distancia del sol del primer planeta\")\n"
   ]
  },
  {
   "cell_type": "code",
   "execution_count": 6,
   "id": "36e0399b-dfd1-4729-a371-def1c9cf2397",
   "metadata": {},
   "outputs": [
    {
     "name": "stdin",
     "output_type": "stream",
     "text": [
      "Escribe le distancia del sol del segundo planeta 108200000\n"
     ]
    }
   ],
   "source": [
    "variable2 = input(\"Escribe le distancia del sol del segundo planeta\")"
   ]
  },
  {
   "cell_type": "markdown",
   "id": "2aa5d64f-687d-4407-84df-90ec13ecf498",
   "metadata": {},
   "source": [
    "\n",
    "Convertir a número\n",
    "\n",
    "Debido a que input devuelve valores de cadena, necesitamos convertirlos en números. Para nuestro ejemplo, usaremos int\n"
   ]
  },
  {
   "cell_type": "code",
   "execution_count": 7,
   "id": "b7f01928-e430-4638-8eba-a12555aba8e4",
   "metadata": {},
   "outputs": [],
   "source": [
    "# Convierte las cadenas de ambos planetas a números enteros\n",
    "numv1=int(variable1)\n",
    "numv2=int(variable2)\n"
   ]
  },
  {
   "cell_type": "markdown",
   "id": "22d9a260-8307-4ce3-a5f9-069e58740224",
   "metadata": {},
   "source": [
    "\n",
    "Realizar el cálculo y convertir a valor absoluto\n",
    "\n",
    "Con los valores almacenados como números, ahora puedes agregar el código para realizar el cálculo, restando el primer planeta del segundo. Debido a que el segundo planeta podría ser un número mayor, usarás abs para convertirlo a un valor absoluto. También agregarás el código para mostrar el resultado en millas multiplicando la distancia del kilómetro por 0.621\n"
   ]
  },
  {
   "cell_type": "code",
   "execution_count": 8,
   "id": "f51943f3-707a-4c48-9337-3e450b734cbc",
   "metadata": {},
   "outputs": [],
   "source": [
    "difkm=abs(numv1-numv2)\n",
    "difmi=difkm*0.621"
   ]
  },
  {
   "cell_type": "code",
   "execution_count": 9,
   "id": "6d575f24-2f07-46e6-a177-40badae63149",
   "metadata": {},
   "outputs": [
    {
     "name": "stdout",
     "output_type": "stream",
     "text": [
      "50300000\n"
     ]
    }
   ],
   "source": [
    "print(difkm)"
   ]
  },
  {
   "cell_type": "code",
   "execution_count": 10,
   "id": "ae7e6655-4ac7-4a50-be28-fdd979b57a05",
   "metadata": {},
   "outputs": [
    {
     "name": "stdout",
     "output_type": "stream",
     "text": [
      "la distancia entre el planeta 1 y el planeta 2 es: 50300000 km\n",
      "la distancia entre el planeta 1 y el planeta 2 es: 31236300.0 millas\n"
     ]
    }
   ],
   "source": [
    "print(\"la distancia entre el planeta 1 y el planeta 2 es: \"+str(difkm)+ \" km\\n\"\n",
    "\"la distancia entre el planeta 1 y el planeta 2 es: \"+str(difmi)+ \" millas\")"
   ]
  }
 ],
 "metadata": {
  "kernelspec": {
   "display_name": "Python 3 (ipykernel)",
   "language": "python",
   "name": "python3"
  },
  "language_info": {
   "codemirror_mode": {
    "name": "ipython",
    "version": 3
   },
   "file_extension": ".py",
   "mimetype": "text/x-python",
   "name": "python",
   "nbconvert_exporter": "python",
   "pygments_lexer": "ipython3",
   "version": "3.9.7"
  }
 },
 "nbformat": 4,
 "nbformat_minor": 5
}
