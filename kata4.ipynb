{
 "cells": [
  {
   "cell_type": "code",
   "execution_count": 1,
   "id": "f55d1b73-417e-4db7-8ef5-ba357fb71526",
   "metadata": {},
   "outputs": [
    {
     "data": {
      "text/plain": [
       "'The Moon has no atmosphere.No sound can be heard on the Moon.'"
      ]
     },
     "execution_count": 1,
     "metadata": {},
     "output_type": "execute_result"
    }
   ],
   "source": [
    "fact = 'The Moon has no atmosphere.'\n",
    "fact + 'No sound can be heard on the Moon.'"
   ]
  },
  {
   "cell_type": "code",
   "execution_count": 7,
   "id": "4e61d03f-2ac1-4cd2-a5a9-833ab0735c3c",
   "metadata": {},
   "outputs": [
    {
     "name": "stdout",
     "output_type": "stream",
     "text": [
      "Facts about the Moon:\n",
      "  There is no atmosphere.\n",
      "  There is no sound.\n"
     ]
    }
   ],
   "source": [
    "multiline = \"\"\"Facts about the Moon:\n",
    "  There is no atmosphere.\n",
    "  There is no sound.\"\"\"\n",
    "print(multiline)\n"
   ]
  },
  {
   "cell_type": "markdown",
   "id": "0d09aecb-2043-427c-bd93-8c2e4b190388",
   "metadata": {},
   "source": [
    "# Ejercicio 1: Transformar cadenas"
   ]
  },
  {
   "cell_type": "markdown",
   "id": "6b9e147b-6f6d-4577-8958-5f91e0cf57c4",
   "metadata": {},
   "source": [
    "Hay varias operaciones que puedes realizar en las cadenas cuando las manipulamos. En este ejercicio, usarás métodos de cadena para modificar el texto con hechos sobre la Luna y luego extraerás información para crear un breve resumen.\n",
    "\n",
    "    Nota Dedica unos minutos a tratar de encontrar una solución. Luego desplázate hacia abajo hasta la parte inferior para ver si has logrado compilar el programa de acuerdo con las especificaciones.\n",
    "\n",
    "El texto con el que trabajarás es el siguiente:\n"
   ]
  },
  {
   "cell_type": "code",
   "execution_count": 3,
   "id": "a493f493-357b-489f-a2fb-e2e43f0df8e4",
   "metadata": {},
   "outputs": [],
   "source": [
    "text = \"\"\"Interesting facts about the Moon. The Moon is Earth's only satellite. There are several interesting facts about the Moon and how it affects life here on Earth. \n",
    "On average, the Moon moves 4cm away from the Earth every year. This yearly drift is not significant enough to cause immediate effects on Earth. The highest daylight temperature of the Moon is 127 C.\"\"\""
   ]
  },
  {
   "cell_type": "markdown",
   "id": "850f5478-5b0e-484f-bf08-ef2a44de8a36",
   "metadata": {},
   "source": [
    "Primero, divide el texto en cada oración para trabajar con su contenido:"
   ]
  },
  {
   "cell_type": "code",
   "execution_count": 4,
   "id": "5661805f-bfd9-4406-85fa-ec63f5b74712",
   "metadata": {},
   "outputs": [],
   "source": [
    "orac=text.split(\".\")"
   ]
  },
  {
   "cell_type": "code",
   "execution_count": 7,
   "id": "0ded139f-0c9b-4430-9633-c93323c8d920",
   "metadata": {},
   "outputs": [
    {
     "data": {
      "text/plain": [
       "['Interesting facts about the Moon',\n",
       " \" The Moon is Earth's only satellite\",\n",
       " ' There are several interesting facts about the Moon and how it affects life here on Earth',\n",
       " ' \\nOn average, the Moon moves 4cm away from the Earth every year',\n",
       " ' This yearly drift is not significant enough to cause immediate effects on Earth',\n",
       " ' The highest daylight temperature of the Moon is 127 C',\n",
       " '']"
      ]
     },
     "execution_count": 7,
     "metadata": {},
     "output_type": "execute_result"
    }
   ],
   "source": [
    "orac"
   ]
  },
  {
   "cell_type": "markdown",
   "id": "11c9ba54-6656-4636-a679-6a8cef12bca2",
   "metadata": {},
   "source": [
    "\n",
    "\n",
    "Ahora, define algunas palabras clave para búsqueda que te ayudarán a determinar si una oración contiene un hecho.\n"
   ]
  },
  {
   "cell_type": "code",
   "execution_count": 9,
   "id": "518afe8c-a456-448d-b64a-eeeb6f2c29c6",
   "metadata": {},
   "outputs": [],
   "source": [
    "# Define las palabras pista: average, temperature y distance suenan bien\n",
    "av=\"average\"\n",
    "t=\"temperature\"\n",
    "d=\"distance\""
   ]
  },
  {
   "cell_type": "markdown",
   "id": "df4d89e4-28ee-4914-b229-faa26e0d540c",
   "metadata": {},
   "source": [
    "\n",
    "\n",
    "Cre un bucle para imprimir solo datos sobre la Luna que estén relacionados con las palabras clave definidas anteriormente:\n"
   ]
  },
  {
   "cell_type": "code",
   "execution_count": 12,
   "id": "ed4cc43e-5305-46df-8775-339f83fec262",
   "metadata": {},
   "outputs": [
    {
     "name": "stdout",
     "output_type": "stream",
     "text": [
      " \n",
      "On average, the Moon moves 4cm away from the Earth every year average\n",
      " The highest daylight temperature of the Moon is 127 C temperature\n"
     ]
    }
   ],
   "source": [
    "for item in orac:\n",
    "    if (av in item) :\n",
    "        print(item)\n",
    "    elif (t in item) :\n",
    "        print(item)\n",
    "    elif (d in item) :\n",
    "        print(item)"
   ]
  },
  {
   "cell_type": "markdown",
   "id": "4b58660c-ec14-4610-b917-01a6aac3dae4",
   "metadata": {},
   "source": [
    "\n",
    "\n",
    "Finalmente, actualiza el bucle(ciclo) para cambiar C a Celsius:\n"
   ]
  },
  {
   "cell_type": "code",
   "execution_count": 13,
   "id": "47f4cd27-6258-437d-af67-0dfd701e3a45",
   "metadata": {},
   "outputs": [
    {
     "name": "stdout",
     "output_type": "stream",
     "text": [
      " \n",
      "On average, the Moon moves 4cm away from the Earth every year\n",
      " The highest daylight temperature of the Moon is 127 Celsius\n"
     ]
    }
   ],
   "source": [
    "for item in orac:\n",
    "    if (av in item) :\n",
    "        print(item.replace('C','Celsius'))\n",
    "    elif (t in item) :\n",
    "        print(item.replace('C','Celsius'))\n",
    "    elif (d in item) :\n",
    "        print(item.replace('C','Celsius'))"
   ]
  },
  {
   "cell_type": "markdown",
   "id": "331b6a31-0420-47f8-9554-6def83fbfbd9",
   "metadata": {},
   "source": [
    "# Ejercicio 2: Formateando Cadenas"
   ]
  },
  {
   "cell_type": "markdown",
   "id": "c38edabe-705f-4588-aae3-8056792e87cc",
   "metadata": {},
   "source": [
    "Saber cómo dar formato a las cadenas es esencial cuando se presenta información de un programa. Hay algunas maneras diferentes de lograr esto en Python. En este ejercicio, se utilizan variables que contienen datos clave sobre la gravedad en varias lunas y luego se utilizan para dar formato e imprimir la información.\n",
    "\n",
    "El formato tiene que acomodar información sobre otras lunas, por lo que debe ser genérico.\n",
    "\n",
    "En lugar de reemplazar las variables en una cadena larga como parte de un párrafo, utiliza la información para presentarla en un formato tabular. El resultado debería verse así:"
   ]
  },
  {
   "cell_type": "code",
   "execution_count": 41,
   "id": "2995eca0-4eda-49c6-b28d-8b9c542f1db2",
   "metadata": {},
   "outputs": [],
   "source": [
    "# Datos con los que vas a trabajar\n",
    "name = \"Moon\"\n",
    "gravity = 0.00162 #km/s^2'\n",
    "planet = \"Earth\""
   ]
  },
  {
   "cell_type": "markdown",
   "id": "3e47fc42-eac5-43a4-a97d-1a9f372a472b",
   "metadata": {},
   "source": [
    "Primero, crea un título para el texto. Debido a que este texto trata sobre la gravedad en la Tierra y la Luna, úsalo para crear un título significativo. Utiliza las variables en lugar de escribir."
   ]
  },
  {
   "cell_type": "code",
   "execution_count": 28,
   "id": "5f4a8a8f-38ec-4753-a72b-6e1003d7741d",
   "metadata": {},
   "outputs": [],
   "source": [
    "# Creamos el título\n",
    "title='Gravity on '+planet+' and '+name.title() "
   ]
  },
  {
   "cell_type": "markdown",
   "id": "c8bd5db1-6ae9-40f0-81ce-ca5ac0b0eba1",
   "metadata": {},
   "source": [
    "Ahora crea una plantilla de cadena multilínea para contener el resto de la información. En lugar de usar kilómetros, debes convertir la distancia a metros multiplicando por 1,000."
   ]
  },
  {
   "cell_type": "code",
   "execution_count": 45,
   "id": "54780413-961a-4829-99e6-56288c0a0353",
   "metadata": {},
   "outputs": [],
   "source": [
    "gravityms = '1.62 m/s^2'"
   ]
  },
  {
   "cell_type": "code",
   "execution_count": 46,
   "id": "deaf7fe1-eb7d-4204-ad90-68b833d8ca9b",
   "metadata": {},
   "outputs": [],
   "source": [
    "plantilla=\"\"\"On the {0}, gravity has the value of {2}, \n",
    "... your weight is different on the {0} than your weight on {1}\"\"\".format(name, planet, gravityms)"
   ]
  },
  {
   "cell_type": "markdown",
   "id": "185a30f0-b937-4209-bd4a-536614c774f3",
   "metadata": {},
   "source": [
    "\n",
    "\n",
    "Finalmente, usa ambas variables para unir el título y los hechos.\n"
   ]
  },
  {
   "cell_type": "code",
   "execution_count": 47,
   "id": "b64fac6b-8d5c-4570-bc2e-2e108e884b08",
   "metadata": {},
   "outputs": [
    {
     "name": "stdout",
     "output_type": "stream",
     "text": [
      "Gravity on Earth and Moon\n",
      "On the Moon, gravity has the value of 1.62 m/s^2, \n",
      "your weight is different on the Moon than your weight on Earth\n"
     ]
    }
   ],
   "source": [
    "print(title+'\\n'+plantilla)"
   ]
  },
  {
   "cell_type": "markdown",
   "id": "e6987ab7-a94e-4e9a-b5e9-32a29487225a",
   "metadata": {},
   "source": [
    "Ahora usa información de una luna diferente para ver si la plantilla todavía funciona.\n",
    "\n",
    "Datos muestra:"
   ]
  },
  {
   "cell_type": "code",
   "execution_count": 57,
   "id": "a7b2db11-c245-4188-9e62-39519b0d3a0b",
   "metadata": {},
   "outputs": [],
   "source": [
    "planet = 'Marte '\n",
    "gravedad  = 0.00143\n",
    "gravityms='1.43 m/s^2'\n",
    "name = 'Ganímedes'"
   ]
  },
  {
   "cell_type": "code",
   "execution_count": 58,
   "id": "c48760e9-f7f7-4925-9a5d-046f15610ef6",
   "metadata": {},
   "outputs": [],
   "source": [
    "# Creamos el título\n",
    "title='Gravity on '+planet+' and '+name.title() "
   ]
  },
  {
   "cell_type": "code",
   "execution_count": 59,
   "id": "aacf35cb-5702-424f-8c9e-a7734262be69",
   "metadata": {},
   "outputs": [],
   "source": [
    "plantilla=\"\"\"On the {0}, gravity has the value of {2}, \n",
    "... your weight is different on the {0} than your weight on {1}\"\"\".format(name, planet, gravityms)"
   ]
  },
  {
   "cell_type": "code",
   "execution_count": 60,
   "id": "e8920f00-1fd7-4e95-84a1-b384f30923c1",
   "metadata": {},
   "outputs": [
    {
     "name": "stdout",
     "output_type": "stream",
     "text": [
      "Gravity on Marte  and Ganímedes\n",
      "On the Ganímedes, gravity has the value of 1.43 m/s^2, \n",
      "your weight is different on the Ganímedes than your weight on Marte \n"
     ]
    }
   ],
   "source": [
    "print(title+'\\n'+plantilla)"
   ]
  },
  {
   "cell_type": "code",
   "execution_count": null,
   "id": "b60c7f05-9b4e-40e5-bc0f-439396783d0a",
   "metadata": {},
   "outputs": [],
   "source": []
  }
 ],
 "metadata": {
  "kernelspec": {
   "display_name": "Python 3 (ipykernel)",
   "language": "python",
   "name": "python3"
  },
  "language_info": {
   "codemirror_mode": {
    "name": "ipython",
    "version": 3
   },
   "file_extension": ".py",
   "mimetype": "text/x-python",
   "name": "python",
   "nbconvert_exporter": "python",
   "pygments_lexer": "ipython3",
   "version": "3.9.7"
  }
 },
 "nbformat": 4,
 "nbformat_minor": 5
}
